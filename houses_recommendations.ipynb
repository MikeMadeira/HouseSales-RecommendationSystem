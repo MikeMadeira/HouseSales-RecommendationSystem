{
 "cells": [
  {
   "cell_type": "markdown",
   "metadata": {},
   "source": [
    "# TO DO List\n",
    "\n",
    "- [ ] Define functions for library imports, data import setup and other EDA steps already finalized"
   ]
  },
  {
   "cell_type": "markdown",
   "metadata": {},
   "source": [
    "# Library imports\n",
    "\n",
    "** **"
   ]
  },
  {
   "cell_type": "code",
   "execution_count": 1,
   "metadata": {
    "hide_input": true
   },
   "outputs": [],
   "source": [
    "import pandas as pd\n",
    "import numpy as np\n",
    "import warnings\n",
    "import seaborn as sns\n",
    "\n",
    "from matplotlib import pyplot as plt\n",
    "from IPython.core.display import display, HTML"
   ]
  },
  {
   "cell_type": "code",
   "execution_count": 2,
   "metadata": {
    "hide_input": true
   },
   "outputs": [],
   "source": [
    "def jupyter_settings():\n",
    "    %matplotlib inline\n",
    "    %pylab inline\n",
    "    \n",
    "    plt.style.use( 'bmh' )\n",
    "    plt.rcParams['figure.figsize'] = [20, 12]\n",
    "    plt.rcParams['font.size'] = 24\n",
    "    \n",
    "    display( HTML( '<style>.container { width:100% !important; }</style>') )\n",
    "    \n",
    "    pd.options.display.max_columns = None\n",
    "    pd.options.display.max_rows = None\n",
    "    pd.set_option( 'display.expand_frame_repr', False )\n",
    "    pd.set_option('display.float_format', lambda x: '%.2f' % x)\n",
    "    \n",
    "    sns.set()\n",
    "    \n",
    "    #warnings.filterwarnings(\"ignore\")"
   ]
  },
  {
   "cell_type": "code",
   "execution_count": 3,
   "metadata": {
    "hide_input": true
   },
   "outputs": [
    {
     "name": "stdout",
     "output_type": "stream",
     "text": [
      "Populating the interactive namespace from numpy and matplotlib\n"
     ]
    },
    {
     "data": {
      "text/html": [
       "<style>.container { width:100% !important; }</style>"
      ],
      "text/plain": [
       "<IPython.core.display.HTML object>"
      ]
     },
     "metadata": {},
     "output_type": "display_data"
    }
   ],
   "source": [
    "jupyter_settings()"
   ]
  },
  {
   "cell_type": "markdown",
   "metadata": {},
   "source": [
    "** **"
   ]
  },
  {
   "cell_type": "markdown",
   "metadata": {},
   "source": [
    "# Data Import and Setup\n",
    "\n",
    "** **"
   ]
  },
  {
   "cell_type": "markdown",
   "metadata": {},
   "source": [
    "### Import data\n",
    "** **"
   ]
  },
  {
   "cell_type": "code",
   "execution_count": 4,
   "metadata": {},
   "outputs": [],
   "source": [
    "orig_df = pd.read_csv('data/kc_house_data.csv')\n",
    "house_df = orig_df.copy(deep=True)"
   ]
  },
  {
   "cell_type": "markdown",
   "metadata": {},
   "source": [
    "### General Info\n",
    "\n",
    "** **"
   ]
  },
  {
   "cell_type": "code",
   "execution_count": 21,
   "metadata": {},
   "outputs": [
    {
     "data": {
      "text/html": [
       "<div>\n",
       "<style scoped>\n",
       "    .dataframe tbody tr th:only-of-type {\n",
       "        vertical-align: middle;\n",
       "    }\n",
       "\n",
       "    .dataframe tbody tr th {\n",
       "        vertical-align: top;\n",
       "    }\n",
       "\n",
       "    .dataframe thead th {\n",
       "        text-align: right;\n",
       "    }\n",
       "</style>\n",
       "<table border=\"1\" class=\"dataframe\">\n",
       "  <thead>\n",
       "    <tr style=\"text-align: right;\">\n",
       "      <th></th>\n",
       "      <th>id</th>\n",
       "      <th>date</th>\n",
       "      <th>price</th>\n",
       "      <th>bedrooms</th>\n",
       "      <th>bathrooms</th>\n",
       "      <th>sqft_living</th>\n",
       "      <th>sqft_lot</th>\n",
       "      <th>floors</th>\n",
       "      <th>waterfront</th>\n",
       "      <th>view</th>\n",
       "      <th>condition</th>\n",
       "      <th>grade</th>\n",
       "      <th>sqft_above</th>\n",
       "      <th>sqft_basement</th>\n",
       "      <th>yr_built</th>\n",
       "      <th>yr_renovated</th>\n",
       "      <th>zipcode</th>\n",
       "      <th>lat</th>\n",
       "      <th>long</th>\n",
       "      <th>sqft_living15</th>\n",
       "      <th>sqft_lot15</th>\n",
       "    </tr>\n",
       "  </thead>\n",
       "  <tbody>\n",
       "    <tr>\n",
       "      <th>0</th>\n",
       "      <td>7129300520</td>\n",
       "      <td>20141013T000000</td>\n",
       "      <td>221900.00</td>\n",
       "      <td>3</td>\n",
       "      <td>1.00</td>\n",
       "      <td>1180</td>\n",
       "      <td>5650</td>\n",
       "      <td>1.00</td>\n",
       "      <td>0</td>\n",
       "      <td>0</td>\n",
       "      <td>3</td>\n",
       "      <td>7</td>\n",
       "      <td>1180</td>\n",
       "      <td>0</td>\n",
       "      <td>1955</td>\n",
       "      <td>0</td>\n",
       "      <td>98178</td>\n",
       "      <td>47.51</td>\n",
       "      <td>-122.26</td>\n",
       "      <td>1340</td>\n",
       "      <td>5650</td>\n",
       "    </tr>\n",
       "    <tr>\n",
       "      <th>1</th>\n",
       "      <td>6414100192</td>\n",
       "      <td>20141209T000000</td>\n",
       "      <td>538000.00</td>\n",
       "      <td>3</td>\n",
       "      <td>2.25</td>\n",
       "      <td>2570</td>\n",
       "      <td>7242</td>\n",
       "      <td>2.00</td>\n",
       "      <td>0</td>\n",
       "      <td>0</td>\n",
       "      <td>3</td>\n",
       "      <td>7</td>\n",
       "      <td>2170</td>\n",
       "      <td>400</td>\n",
       "      <td>1951</td>\n",
       "      <td>1991</td>\n",
       "      <td>98125</td>\n",
       "      <td>47.72</td>\n",
       "      <td>-122.32</td>\n",
       "      <td>1690</td>\n",
       "      <td>7639</td>\n",
       "    </tr>\n",
       "    <tr>\n",
       "      <th>2</th>\n",
       "      <td>5631500400</td>\n",
       "      <td>20150225T000000</td>\n",
       "      <td>180000.00</td>\n",
       "      <td>2</td>\n",
       "      <td>1.00</td>\n",
       "      <td>770</td>\n",
       "      <td>10000</td>\n",
       "      <td>1.00</td>\n",
       "      <td>0</td>\n",
       "      <td>0</td>\n",
       "      <td>3</td>\n",
       "      <td>6</td>\n",
       "      <td>770</td>\n",
       "      <td>0</td>\n",
       "      <td>1933</td>\n",
       "      <td>0</td>\n",
       "      <td>98028</td>\n",
       "      <td>47.74</td>\n",
       "      <td>-122.23</td>\n",
       "      <td>2720</td>\n",
       "      <td>8062</td>\n",
       "    </tr>\n",
       "    <tr>\n",
       "      <th>3</th>\n",
       "      <td>2487200875</td>\n",
       "      <td>20141209T000000</td>\n",
       "      <td>604000.00</td>\n",
       "      <td>4</td>\n",
       "      <td>3.00</td>\n",
       "      <td>1960</td>\n",
       "      <td>5000</td>\n",
       "      <td>1.00</td>\n",
       "      <td>0</td>\n",
       "      <td>0</td>\n",
       "      <td>5</td>\n",
       "      <td>7</td>\n",
       "      <td>1050</td>\n",
       "      <td>910</td>\n",
       "      <td>1965</td>\n",
       "      <td>0</td>\n",
       "      <td>98136</td>\n",
       "      <td>47.52</td>\n",
       "      <td>-122.39</td>\n",
       "      <td>1360</td>\n",
       "      <td>5000</td>\n",
       "    </tr>\n",
       "    <tr>\n",
       "      <th>4</th>\n",
       "      <td>1954400510</td>\n",
       "      <td>20150218T000000</td>\n",
       "      <td>510000.00</td>\n",
       "      <td>3</td>\n",
       "      <td>2.00</td>\n",
       "      <td>1680</td>\n",
       "      <td>8080</td>\n",
       "      <td>1.00</td>\n",
       "      <td>0</td>\n",
       "      <td>0</td>\n",
       "      <td>3</td>\n",
       "      <td>8</td>\n",
       "      <td>1680</td>\n",
       "      <td>0</td>\n",
       "      <td>1987</td>\n",
       "      <td>0</td>\n",
       "      <td>98074</td>\n",
       "      <td>47.62</td>\n",
       "      <td>-122.05</td>\n",
       "      <td>1800</td>\n",
       "      <td>7503</td>\n",
       "    </tr>\n",
       "  </tbody>\n",
       "</table>\n",
       "</div>"
      ],
      "text/plain": [
       "           id             date     price  bedrooms  bathrooms  sqft_living  sqft_lot  floors  waterfront  view  condition  grade  sqft_above  sqft_basement  yr_built  yr_renovated  zipcode   lat    long  sqft_living15  sqft_lot15\n",
       "0  7129300520  20141013T000000 221900.00         3       1.00         1180      5650    1.00           0     0          3      7        1180              0      1955             0    98178 47.51 -122.26           1340        5650\n",
       "1  6414100192  20141209T000000 538000.00         3       2.25         2570      7242    2.00           0     0          3      7        2170            400      1951          1991    98125 47.72 -122.32           1690        7639\n",
       "2  5631500400  20150225T000000 180000.00         2       1.00          770     10000    1.00           0     0          3      6         770              0      1933             0    98028 47.74 -122.23           2720        8062\n",
       "3  2487200875  20141209T000000 604000.00         4       3.00         1960      5000    1.00           0     0          5      7        1050            910      1965             0    98136 47.52 -122.39           1360        5000\n",
       "4  1954400510  20150218T000000 510000.00         3       2.00         1680      8080    1.00           0     0          3      8        1680              0      1987             0    98074 47.62 -122.05           1800        7503"
      ]
     },
     "execution_count": 21,
     "metadata": {},
     "output_type": "execute_result"
    }
   ],
   "source": [
    "house_df.head()"
   ]
  },
  {
   "cell_type": "code",
   "execution_count": 16,
   "metadata": {
    "collapsed": true
   },
   "outputs": [
    {
     "name": "stdout",
     "output_type": "stream",
     "text": [
      "<class 'pandas.core.frame.DataFrame'>\n",
      "RangeIndex: 21613 entries, 0 to 21612\n",
      "Data columns (total 21 columns):\n",
      " #   Column         Non-Null Count  Dtype  \n",
      "---  ------         --------------  -----  \n",
      " 0   id             21613 non-null  int64  \n",
      " 1   date           21613 non-null  object \n",
      " 2   price          21613 non-null  float64\n",
      " 3   bedrooms       21613 non-null  int64  \n",
      " 4   bathrooms      21613 non-null  float64\n",
      " 5   sqft_living    21613 non-null  int64  \n",
      " 6   sqft_lot       21613 non-null  int64  \n",
      " 7   floors         21613 non-null  float64\n",
      " 8   waterfront     21613 non-null  int64  \n",
      " 9   view           21613 non-null  int64  \n",
      " 10  condition      21613 non-null  int64  \n",
      " 11  grade          21613 non-null  int64  \n",
      " 12  sqft_above     21613 non-null  int64  \n",
      " 13  sqft_basement  21613 non-null  int64  \n",
      " 14  yr_built       21613 non-null  int64  \n",
      " 15  yr_renovated   21613 non-null  int64  \n",
      " 16  zipcode        21613 non-null  int64  \n",
      " 17  lat            21613 non-null  float64\n",
      " 18  long           21613 non-null  float64\n",
      " 19  sqft_living15  21613 non-null  int64  \n",
      " 20  sqft_lot15     21613 non-null  int64  \n",
      "dtypes: float64(5), int64(15), object(1)\n",
      "memory usage: 3.5+ MB\n"
     ]
    }
   ],
   "source": [
    "house_df.info()"
   ]
  },
  {
   "cell_type": "code",
   "execution_count": 17,
   "metadata": {
    "collapsed": true
   },
   "outputs": [
    {
     "data": {
      "text/html": [
       "<div>\n",
       "<style scoped>\n",
       "    .dataframe tbody tr th:only-of-type {\n",
       "        vertical-align: middle;\n",
       "    }\n",
       "\n",
       "    .dataframe tbody tr th {\n",
       "        vertical-align: top;\n",
       "    }\n",
       "\n",
       "    .dataframe thead th {\n",
       "        text-align: right;\n",
       "    }\n",
       "</style>\n",
       "<table border=\"1\" class=\"dataframe\">\n",
       "  <thead>\n",
       "    <tr style=\"text-align: right;\">\n",
       "      <th></th>\n",
       "      <th>id</th>\n",
       "      <th>price</th>\n",
       "      <th>bedrooms</th>\n",
       "      <th>bathrooms</th>\n",
       "      <th>sqft_living</th>\n",
       "      <th>sqft_lot</th>\n",
       "      <th>floors</th>\n",
       "      <th>waterfront</th>\n",
       "      <th>view</th>\n",
       "      <th>condition</th>\n",
       "      <th>grade</th>\n",
       "      <th>sqft_above</th>\n",
       "      <th>sqft_basement</th>\n",
       "      <th>yr_built</th>\n",
       "      <th>yr_renovated</th>\n",
       "      <th>zipcode</th>\n",
       "      <th>lat</th>\n",
       "      <th>long</th>\n",
       "      <th>sqft_living15</th>\n",
       "      <th>sqft_lot15</th>\n",
       "    </tr>\n",
       "  </thead>\n",
       "  <tbody>\n",
       "    <tr>\n",
       "      <th>count</th>\n",
       "      <td>21613.00</td>\n",
       "      <td>21613.00</td>\n",
       "      <td>21613.00</td>\n",
       "      <td>21613.00</td>\n",
       "      <td>21613.00</td>\n",
       "      <td>21613.00</td>\n",
       "      <td>21613.00</td>\n",
       "      <td>21613.00</td>\n",
       "      <td>21613.00</td>\n",
       "      <td>21613.00</td>\n",
       "      <td>21613.00</td>\n",
       "      <td>21613.00</td>\n",
       "      <td>21613.00</td>\n",
       "      <td>21613.00</td>\n",
       "      <td>21613.00</td>\n",
       "      <td>21613.00</td>\n",
       "      <td>21613.00</td>\n",
       "      <td>21613.00</td>\n",
       "      <td>21613.00</td>\n",
       "      <td>21613.00</td>\n",
       "    </tr>\n",
       "    <tr>\n",
       "      <th>mean</th>\n",
       "      <td>4580301520.86</td>\n",
       "      <td>540088.14</td>\n",
       "      <td>3.37</td>\n",
       "      <td>2.11</td>\n",
       "      <td>2079.90</td>\n",
       "      <td>15106.97</td>\n",
       "      <td>1.49</td>\n",
       "      <td>0.01</td>\n",
       "      <td>0.23</td>\n",
       "      <td>3.41</td>\n",
       "      <td>7.66</td>\n",
       "      <td>1788.39</td>\n",
       "      <td>291.51</td>\n",
       "      <td>1971.01</td>\n",
       "      <td>84.40</td>\n",
       "      <td>98077.94</td>\n",
       "      <td>47.56</td>\n",
       "      <td>-122.21</td>\n",
       "      <td>1986.55</td>\n",
       "      <td>12768.46</td>\n",
       "    </tr>\n",
       "    <tr>\n",
       "      <th>std</th>\n",
       "      <td>2876565571.31</td>\n",
       "      <td>367127.20</td>\n",
       "      <td>0.93</td>\n",
       "      <td>0.77</td>\n",
       "      <td>918.44</td>\n",
       "      <td>41420.51</td>\n",
       "      <td>0.54</td>\n",
       "      <td>0.09</td>\n",
       "      <td>0.77</td>\n",
       "      <td>0.65</td>\n",
       "      <td>1.18</td>\n",
       "      <td>828.09</td>\n",
       "      <td>442.58</td>\n",
       "      <td>29.37</td>\n",
       "      <td>401.68</td>\n",
       "      <td>53.51</td>\n",
       "      <td>0.14</td>\n",
       "      <td>0.14</td>\n",
       "      <td>685.39</td>\n",
       "      <td>27304.18</td>\n",
       "    </tr>\n",
       "    <tr>\n",
       "      <th>min</th>\n",
       "      <td>1000102.00</td>\n",
       "      <td>75000.00</td>\n",
       "      <td>0.00</td>\n",
       "      <td>0.00</td>\n",
       "      <td>290.00</td>\n",
       "      <td>520.00</td>\n",
       "      <td>1.00</td>\n",
       "      <td>0.00</td>\n",
       "      <td>0.00</td>\n",
       "      <td>1.00</td>\n",
       "      <td>1.00</td>\n",
       "      <td>290.00</td>\n",
       "      <td>0.00</td>\n",
       "      <td>1900.00</td>\n",
       "      <td>0.00</td>\n",
       "      <td>98001.00</td>\n",
       "      <td>47.16</td>\n",
       "      <td>-122.52</td>\n",
       "      <td>399.00</td>\n",
       "      <td>651.00</td>\n",
       "    </tr>\n",
       "    <tr>\n",
       "      <th>25%</th>\n",
       "      <td>2123049194.00</td>\n",
       "      <td>321950.00</td>\n",
       "      <td>3.00</td>\n",
       "      <td>1.75</td>\n",
       "      <td>1427.00</td>\n",
       "      <td>5040.00</td>\n",
       "      <td>1.00</td>\n",
       "      <td>0.00</td>\n",
       "      <td>0.00</td>\n",
       "      <td>3.00</td>\n",
       "      <td>7.00</td>\n",
       "      <td>1190.00</td>\n",
       "      <td>0.00</td>\n",
       "      <td>1951.00</td>\n",
       "      <td>0.00</td>\n",
       "      <td>98033.00</td>\n",
       "      <td>47.47</td>\n",
       "      <td>-122.33</td>\n",
       "      <td>1490.00</td>\n",
       "      <td>5100.00</td>\n",
       "    </tr>\n",
       "    <tr>\n",
       "      <th>50%</th>\n",
       "      <td>3904930410.00</td>\n",
       "      <td>450000.00</td>\n",
       "      <td>3.00</td>\n",
       "      <td>2.25</td>\n",
       "      <td>1910.00</td>\n",
       "      <td>7618.00</td>\n",
       "      <td>1.50</td>\n",
       "      <td>0.00</td>\n",
       "      <td>0.00</td>\n",
       "      <td>3.00</td>\n",
       "      <td>7.00</td>\n",
       "      <td>1560.00</td>\n",
       "      <td>0.00</td>\n",
       "      <td>1975.00</td>\n",
       "      <td>0.00</td>\n",
       "      <td>98065.00</td>\n",
       "      <td>47.57</td>\n",
       "      <td>-122.23</td>\n",
       "      <td>1840.00</td>\n",
       "      <td>7620.00</td>\n",
       "    </tr>\n",
       "    <tr>\n",
       "      <th>75%</th>\n",
       "      <td>7308900445.00</td>\n",
       "      <td>645000.00</td>\n",
       "      <td>4.00</td>\n",
       "      <td>2.50</td>\n",
       "      <td>2550.00</td>\n",
       "      <td>10688.00</td>\n",
       "      <td>2.00</td>\n",
       "      <td>0.00</td>\n",
       "      <td>0.00</td>\n",
       "      <td>4.00</td>\n",
       "      <td>8.00</td>\n",
       "      <td>2210.00</td>\n",
       "      <td>560.00</td>\n",
       "      <td>1997.00</td>\n",
       "      <td>0.00</td>\n",
       "      <td>98118.00</td>\n",
       "      <td>47.68</td>\n",
       "      <td>-122.12</td>\n",
       "      <td>2360.00</td>\n",
       "      <td>10083.00</td>\n",
       "    </tr>\n",
       "    <tr>\n",
       "      <th>max</th>\n",
       "      <td>9900000190.00</td>\n",
       "      <td>7700000.00</td>\n",
       "      <td>33.00</td>\n",
       "      <td>8.00</td>\n",
       "      <td>13540.00</td>\n",
       "      <td>1651359.00</td>\n",
       "      <td>3.50</td>\n",
       "      <td>1.00</td>\n",
       "      <td>4.00</td>\n",
       "      <td>5.00</td>\n",
       "      <td>13.00</td>\n",
       "      <td>9410.00</td>\n",
       "      <td>4820.00</td>\n",
       "      <td>2015.00</td>\n",
       "      <td>2015.00</td>\n",
       "      <td>98199.00</td>\n",
       "      <td>47.78</td>\n",
       "      <td>-121.31</td>\n",
       "      <td>6210.00</td>\n",
       "      <td>871200.00</td>\n",
       "    </tr>\n",
       "  </tbody>\n",
       "</table>\n",
       "</div>"
      ],
      "text/plain": [
       "                 id      price  bedrooms  bathrooms  sqft_living   sqft_lot   floors  waterfront     view  condition    grade  sqft_above  sqft_basement  yr_built  yr_renovated  zipcode      lat     long  sqft_living15  sqft_lot15\n",
       "count      21613.00   21613.00  21613.00   21613.00     21613.00   21613.00 21613.00    21613.00 21613.00   21613.00 21613.00    21613.00       21613.00  21613.00      21613.00 21613.00 21613.00 21613.00       21613.00    21613.00\n",
       "mean  4580301520.86  540088.14      3.37       2.11      2079.90   15106.97     1.49        0.01     0.23       3.41     7.66     1788.39         291.51   1971.01         84.40 98077.94    47.56  -122.21        1986.55    12768.46\n",
       "std   2876565571.31  367127.20      0.93       0.77       918.44   41420.51     0.54        0.09     0.77       0.65     1.18      828.09         442.58     29.37        401.68    53.51     0.14     0.14         685.39    27304.18\n",
       "min      1000102.00   75000.00      0.00       0.00       290.00     520.00     1.00        0.00     0.00       1.00     1.00      290.00           0.00   1900.00          0.00 98001.00    47.16  -122.52         399.00      651.00\n",
       "25%   2123049194.00  321950.00      3.00       1.75      1427.00    5040.00     1.00        0.00     0.00       3.00     7.00     1190.00           0.00   1951.00          0.00 98033.00    47.47  -122.33        1490.00     5100.00\n",
       "50%   3904930410.00  450000.00      3.00       2.25      1910.00    7618.00     1.50        0.00     0.00       3.00     7.00     1560.00           0.00   1975.00          0.00 98065.00    47.57  -122.23        1840.00     7620.00\n",
       "75%   7308900445.00  645000.00      4.00       2.50      2550.00   10688.00     2.00        0.00     0.00       4.00     8.00     2210.00         560.00   1997.00          0.00 98118.00    47.68  -122.12        2360.00    10083.00\n",
       "max   9900000190.00 7700000.00     33.00       8.00     13540.00 1651359.00     3.50        1.00     4.00       5.00    13.00     9410.00        4820.00   2015.00       2015.00 98199.00    47.78  -121.31        6210.00   871200.00"
      ]
     },
     "execution_count": 17,
     "metadata": {},
     "output_type": "execute_result"
    }
   ],
   "source": [
    "house_df.describe()"
   ]
  },
  {
   "cell_type": "markdown",
   "metadata": {},
   "source": [
    "** **"
   ]
  },
  {
   "cell_type": "markdown",
   "metadata": {},
   "source": [
    "# Exploratory Data Analysis\n",
    "** **"
   ]
  },
  {
   "cell_type": "markdown",
   "metadata": {},
   "source": [
    "### Data Dimensionality\n",
    "** **\n",
    "\n",
    "It is a small sized dataset, and and it will not suffer from the curse of dimensionality."
   ]
  },
  {
   "cell_type": "code",
   "execution_count": 31,
   "metadata": {},
   "outputs": [
    {
     "name": "stdout",
     "output_type": "stream",
     "text": [
      "Number of Rows:21613\n",
      "Number of Columns 21\n"
     ]
    }
   ],
   "source": [
    "print('Number of Rows:{}'.format(house_df.shape[0]))\n",
    "print('Number of Columns {}'.format(house_df.shape[1]))"
   ]
  },
  {
   "cell_type": "markdown",
   "metadata": {},
   "source": [
    "### Attributes Name and Description\n",
    "** **"
   ]
  },
  {
   "cell_type": "markdown",
   "metadata": {},
   "source": [
    "**id** - its a unique identifier number for each unique house\n",
    "\n",
    "**date** - its the date when the house were sold\n",
    "\n",
    "**price** - its the selling price when the house was sold\n",
    "\n",
    "**bedrooms** - number of bedrooms in the house\n",
    "\n",
    "**bathrooms** - number of bathrooms in the house, where a fraction like 0.25 represents a bathroom sink, shower or toilet\n",
    "\n",
    "**sqft_living** - the size of the living room in square feet\n",
    "\n",
    "**sqft_lot** - the size of the land in square feet\n",
    "\n",
    "**floors** - number of floors in the house\n",
    "\n",
    "**waterfront** - if there is a waterview from the house\n",
    "\n",
    "**view** - how many views the house has\n",
    "\n",
    "**condition** - the house preservation condition\n",
    "\n",
    "**grade** - a rank from 1 to 13, which ranks the construction quality\n",
    "\n",
    "**sqft_above** - the size of the house above the ground level in square feet\n",
    "\n",
    "**sqft_basement** - the size of the house below the ground level in square feet\n",
    "\n",
    "**yr_built** - the year the house was initially built\n",
    "\n",
    "**yr_renovated** - the year of the house's last renovation\n",
    "\n",
    "**zipcode** - what zipcode area the house is in\n",
    "\n",
    "**lat** - Lattitude\n",
    "\n",
    "**long** - Longitude\n",
    "\n",
    "**sqft_living15** - The square footage of interior housing living space for the nearest 15 neighbors (possibly)\n",
    "\n",
    "**sqft_lot15** - The square footage of the land lots of the nearest 15 neighbors\n",
    "\n",
    "** **"
   ]
  },
  {
   "cell_type": "markdown",
   "metadata": {},
   "source": [
    "### Attributes Type and Data type conversions\n",
    "** **"
   ]
  },
  {
   "cell_type": "code",
   "execution_count": 27,
   "metadata": {},
   "outputs": [
    {
     "data": {
      "text/plain": [
       "id                 int64\n",
       "date              object\n",
       "price            float64\n",
       "bedrooms           int64\n",
       "bathrooms        float64\n",
       "sqft_living        int64\n",
       "sqft_lot           int64\n",
       "floors           float64\n",
       "waterfront         int64\n",
       "view               int64\n",
       "condition          int64\n",
       "grade              int64\n",
       "sqft_above         int64\n",
       "sqft_basement      int64\n",
       "yr_built           int64\n",
       "yr_renovated       int64\n",
       "zipcode            int64\n",
       "lat              float64\n",
       "long             float64\n",
       "sqft_living15      int64\n",
       "sqft_lot15         int64\n",
       "dtype: object"
      ]
     },
     "execution_count": 27,
     "metadata": {},
     "output_type": "execute_result"
    }
   ],
   "source": [
    "house_df.dtypes"
   ]
  },
  {
   "cell_type": "markdown",
   "metadata": {},
   "source": [
    ">#### Date reformat type\n",
    "\n",
    "Because it will be handled easily as a date variable type"
   ]
  },
  {
   "cell_type": "code",
   "execution_count": 5,
   "metadata": {},
   "outputs": [],
   "source": [
    "house_df.date = pd.to_datetime(house_df.date)"
   ]
  },
  {
   "cell_type": "code",
   "execution_count": 6,
   "metadata": {},
   "outputs": [
    {
     "data": {
      "text/plain": [
       "Timestamp('2014-10-13 00:00:00')"
      ]
     },
     "execution_count": 6,
     "metadata": {},
     "output_type": "execute_result"
    }
   ],
   "source": [
    "house_df.date[0]"
   ]
  },
  {
   "cell_type": "markdown",
   "metadata": {},
   "source": [
    "### Attributes Descriptive Statistics (Summary Statistics)\n",
    "** **"
   ]
  },
  {
   "cell_type": "code",
   "execution_count": 7,
   "metadata": {},
   "outputs": [],
   "source": [
    "num_attributes = house_df.select_dtypes(include=['int64', 'float64'])"
   ]
  },
  {
   "cell_type": "code",
   "execution_count": 8,
   "metadata": {},
   "outputs": [
    {
     "data": {
      "text/plain": [
       "Index(['id', 'price', 'bedrooms', 'bathrooms', 'sqft_living', 'sqft_lot',\n",
       "       'floors', 'waterfront', 'view', 'condition', 'grade', 'sqft_above',\n",
       "       'sqft_basement', 'yr_built', 'yr_renovated', 'zipcode', 'lat', 'long',\n",
       "       'sqft_living15', 'sqft_lot15'],\n",
       "      dtype='object')"
      ]
     },
     "execution_count": 8,
     "metadata": {},
     "output_type": "execute_result"
    }
   ],
   "source": [
    "num_attributes.columns"
   ]
  },
  {
   "cell_type": "code",
   "execution_count": 74,
   "metadata": {
    "scrolled": false
   },
   "outputs": [
    {
     "data": {
      "text/html": [
       "<div>\n",
       "<style scoped>\n",
       "    .dataframe tbody tr th:only-of-type {\n",
       "        vertical-align: middle;\n",
       "    }\n",
       "\n",
       "    .dataframe tbody tr th {\n",
       "        vertical-align: top;\n",
       "    }\n",
       "\n",
       "    .dataframe thead th {\n",
       "        text-align: right;\n",
       "    }\n",
       "</style>\n",
       "<table border=\"1\" class=\"dataframe\">\n",
       "  <thead>\n",
       "    <tr style=\"text-align: right;\">\n",
       "      <th></th>\n",
       "      <th>mean</th>\n",
       "      <th>std</th>\n",
       "      <th>minimum</th>\n",
       "      <th>q1</th>\n",
       "      <th>median</th>\n",
       "      <th>q3</th>\n",
       "      <th>maximum</th>\n",
       "    </tr>\n",
       "  </thead>\n",
       "  <tbody>\n",
       "    <tr>\n",
       "      <th>id</th>\n",
       "      <td>4580301520.86</td>\n",
       "      <td>2876565571.31</td>\n",
       "      <td>1000102.00</td>\n",
       "      <td>2123049194.00</td>\n",
       "      <td>3904930410.00</td>\n",
       "      <td>7308900445.00</td>\n",
       "      <td>9900000190.00</td>\n",
       "    </tr>\n",
       "    <tr>\n",
       "      <th>price</th>\n",
       "      <td>540088.14</td>\n",
       "      <td>367127.20</td>\n",
       "      <td>75000.00</td>\n",
       "      <td>321950.00</td>\n",
       "      <td>450000.00</td>\n",
       "      <td>645000.00</td>\n",
       "      <td>7700000.00</td>\n",
       "    </tr>\n",
       "    <tr>\n",
       "      <th>bedrooms</th>\n",
       "      <td>3.37</td>\n",
       "      <td>0.93</td>\n",
       "      <td>0.00</td>\n",
       "      <td>3.00</td>\n",
       "      <td>3.00</td>\n",
       "      <td>4.00</td>\n",
       "      <td>33.00</td>\n",
       "    </tr>\n",
       "    <tr>\n",
       "      <th>bathrooms</th>\n",
       "      <td>2.11</td>\n",
       "      <td>0.77</td>\n",
       "      <td>0.00</td>\n",
       "      <td>1.75</td>\n",
       "      <td>2.25</td>\n",
       "      <td>2.50</td>\n",
       "      <td>8.00</td>\n",
       "    </tr>\n",
       "    <tr>\n",
       "      <th>sqft_living</th>\n",
       "      <td>2079.90</td>\n",
       "      <td>918.44</td>\n",
       "      <td>290.00</td>\n",
       "      <td>1427.00</td>\n",
       "      <td>1910.00</td>\n",
       "      <td>2550.00</td>\n",
       "      <td>13540.00</td>\n",
       "    </tr>\n",
       "    <tr>\n",
       "      <th>sqft_lot</th>\n",
       "      <td>15106.97</td>\n",
       "      <td>41420.51</td>\n",
       "      <td>520.00</td>\n",
       "      <td>5040.00</td>\n",
       "      <td>7618.00</td>\n",
       "      <td>10688.00</td>\n",
       "      <td>1651359.00</td>\n",
       "    </tr>\n",
       "    <tr>\n",
       "      <th>floors</th>\n",
       "      <td>1.49</td>\n",
       "      <td>0.54</td>\n",
       "      <td>1.00</td>\n",
       "      <td>1.00</td>\n",
       "      <td>1.50</td>\n",
       "      <td>2.00</td>\n",
       "      <td>3.50</td>\n",
       "    </tr>\n",
       "    <tr>\n",
       "      <th>waterfront</th>\n",
       "      <td>0.01</td>\n",
       "      <td>0.09</td>\n",
       "      <td>0.00</td>\n",
       "      <td>0.00</td>\n",
       "      <td>0.00</td>\n",
       "      <td>0.00</td>\n",
       "      <td>1.00</td>\n",
       "    </tr>\n",
       "    <tr>\n",
       "      <th>view</th>\n",
       "      <td>0.23</td>\n",
       "      <td>0.77</td>\n",
       "      <td>0.00</td>\n",
       "      <td>0.00</td>\n",
       "      <td>0.00</td>\n",
       "      <td>0.00</td>\n",
       "      <td>4.00</td>\n",
       "    </tr>\n",
       "    <tr>\n",
       "      <th>condition</th>\n",
       "      <td>3.41</td>\n",
       "      <td>0.65</td>\n",
       "      <td>1.00</td>\n",
       "      <td>3.00</td>\n",
       "      <td>3.00</td>\n",
       "      <td>4.00</td>\n",
       "      <td>5.00</td>\n",
       "    </tr>\n",
       "    <tr>\n",
       "      <th>grade</th>\n",
       "      <td>7.66</td>\n",
       "      <td>1.18</td>\n",
       "      <td>1.00</td>\n",
       "      <td>7.00</td>\n",
       "      <td>7.00</td>\n",
       "      <td>8.00</td>\n",
       "      <td>13.00</td>\n",
       "    </tr>\n",
       "    <tr>\n",
       "      <th>sqft_above</th>\n",
       "      <td>1788.39</td>\n",
       "      <td>828.09</td>\n",
       "      <td>290.00</td>\n",
       "      <td>1190.00</td>\n",
       "      <td>1560.00</td>\n",
       "      <td>2210.00</td>\n",
       "      <td>9410.00</td>\n",
       "    </tr>\n",
       "    <tr>\n",
       "      <th>sqft_basement</th>\n",
       "      <td>291.51</td>\n",
       "      <td>442.58</td>\n",
       "      <td>0.00</td>\n",
       "      <td>0.00</td>\n",
       "      <td>0.00</td>\n",
       "      <td>560.00</td>\n",
       "      <td>4820.00</td>\n",
       "    </tr>\n",
       "    <tr>\n",
       "      <th>yr_built</th>\n",
       "      <td>1971.01</td>\n",
       "      <td>29.37</td>\n",
       "      <td>1900.00</td>\n",
       "      <td>1951.00</td>\n",
       "      <td>1975.00</td>\n",
       "      <td>1997.00</td>\n",
       "      <td>2015.00</td>\n",
       "    </tr>\n",
       "    <tr>\n",
       "      <th>yr_renovated</th>\n",
       "      <td>84.40</td>\n",
       "      <td>401.68</td>\n",
       "      <td>0.00</td>\n",
       "      <td>0.00</td>\n",
       "      <td>0.00</td>\n",
       "      <td>0.00</td>\n",
       "      <td>2015.00</td>\n",
       "    </tr>\n",
       "    <tr>\n",
       "      <th>zipcode</th>\n",
       "      <td>98077.94</td>\n",
       "      <td>53.51</td>\n",
       "      <td>98001.00</td>\n",
       "      <td>98033.00</td>\n",
       "      <td>98065.00</td>\n",
       "      <td>98118.00</td>\n",
       "      <td>98199.00</td>\n",
       "    </tr>\n",
       "    <tr>\n",
       "      <th>lat</th>\n",
       "      <td>47.56</td>\n",
       "      <td>0.14</td>\n",
       "      <td>47.16</td>\n",
       "      <td>47.47</td>\n",
       "      <td>47.57</td>\n",
       "      <td>47.68</td>\n",
       "      <td>47.78</td>\n",
       "    </tr>\n",
       "    <tr>\n",
       "      <th>long</th>\n",
       "      <td>-122.21</td>\n",
       "      <td>0.14</td>\n",
       "      <td>-122.52</td>\n",
       "      <td>-122.33</td>\n",
       "      <td>-122.23</td>\n",
       "      <td>-122.12</td>\n",
       "      <td>-121.31</td>\n",
       "    </tr>\n",
       "    <tr>\n",
       "      <th>sqft_living15</th>\n",
       "      <td>1986.55</td>\n",
       "      <td>685.39</td>\n",
       "      <td>399.00</td>\n",
       "      <td>1490.00</td>\n",
       "      <td>1840.00</td>\n",
       "      <td>2360.00</td>\n",
       "      <td>6210.00</td>\n",
       "    </tr>\n",
       "    <tr>\n",
       "      <th>sqft_lot15</th>\n",
       "      <td>12768.46</td>\n",
       "      <td>27304.18</td>\n",
       "      <td>651.00</td>\n",
       "      <td>5100.00</td>\n",
       "      <td>7620.00</td>\n",
       "      <td>10083.00</td>\n",
       "      <td>871200.00</td>\n",
       "    </tr>\n",
       "  </tbody>\n",
       "</table>\n",
       "</div>"
      ],
      "text/plain": [
       "                       mean           std    minimum            q1        median            q3       maximum\n",
       "id            4580301520.86 2876565571.31 1000102.00 2123049194.00 3904930410.00 7308900445.00 9900000190.00\n",
       "price             540088.14     367127.20   75000.00     321950.00     450000.00     645000.00    7700000.00\n",
       "bedrooms               3.37          0.93       0.00          3.00          3.00          4.00         33.00\n",
       "bathrooms              2.11          0.77       0.00          1.75          2.25          2.50          8.00\n",
       "sqft_living         2079.90        918.44     290.00       1427.00       1910.00       2550.00      13540.00\n",
       "sqft_lot           15106.97      41420.51     520.00       5040.00       7618.00      10688.00    1651359.00\n",
       "floors                 1.49          0.54       1.00          1.00          1.50          2.00          3.50\n",
       "waterfront             0.01          0.09       0.00          0.00          0.00          0.00          1.00\n",
       "view                   0.23          0.77       0.00          0.00          0.00          0.00          4.00\n",
       "condition              3.41          0.65       1.00          3.00          3.00          4.00          5.00\n",
       "grade                  7.66          1.18       1.00          7.00          7.00          8.00         13.00\n",
       "sqft_above          1788.39        828.09     290.00       1190.00       1560.00       2210.00       9410.00\n",
       "sqft_basement        291.51        442.58       0.00          0.00          0.00        560.00       4820.00\n",
       "yr_built            1971.01         29.37    1900.00       1951.00       1975.00       1997.00       2015.00\n",
       "yr_renovated          84.40        401.68       0.00          0.00          0.00          0.00       2015.00\n",
       "zipcode            98077.94         53.51   98001.00      98033.00      98065.00      98118.00      98199.00\n",
       "lat                   47.56          0.14      47.16         47.47         47.57         47.68         47.78\n",
       "long                -122.21          0.14    -122.52       -122.33       -122.23       -122.12       -121.31\n",
       "sqft_living15       1986.55        685.39     399.00       1490.00       1840.00       2360.00       6210.00\n",
       "sqft_lot15         12768.46      27304.18     651.00       5100.00       7620.00      10083.00     871200.00"
      ]
     },
     "execution_count": 74,
     "metadata": {},
     "output_type": "execute_result"
    }
   ],
   "source": [
    "mean = pd.DataFrame(num_attributes.mean())\n",
    "std = pd.DataFrame(num_attributes.std())\n",
    "median = pd.DataFrame(num_attributes.median())\n",
    "\n",
    "q1,q3 = pd.DataFrame(num_attributes.quantile([0.25])), pd.DataFrame(num_attributes.quantile([0.75]))\n",
    "\n",
    "maximum = pd.DataFrame(num_attributes.max())\n",
    "minimum = pd.DataFrame(num_attributes.min())\n",
    "\n",
    "descriptive_statistics = pd.concat([mean,std,minimum,q1.transpose(),median,q3.transpose(),maximum],axis=1)\n",
    "descriptive_statistics.columns = ['mean','std','minimum','q1','median','q3','maximum']\n",
    "descriptive_statistics"
   ]
  },
  {
   "cell_type": "markdown",
   "metadata": {},
   "source": [
    "### Identify missing values and Duplicated records\n",
    "***"
   ]
  },
  {
   "cell_type": "markdown",
   "metadata": {},
   "source": [
    ">#### Missing Values"
   ]
  },
  {
   "cell_type": "code",
   "execution_count": 15,
   "metadata": {},
   "outputs": [
    {
     "data": {
      "text/plain": [
       "id               0\n",
       "price            0\n",
       "bedrooms         0\n",
       "bathrooms        0\n",
       "sqft_living      0\n",
       "sqft_lot         0\n",
       "floors           0\n",
       "waterfront       0\n",
       "view             0\n",
       "condition        0\n",
       "grade            0\n",
       "sqft_above       0\n",
       "sqft_basement    0\n",
       "yr_built         0\n",
       "yr_renovated     0\n",
       "zipcode          0\n",
       "lat              0\n",
       "long             0\n",
       "sqft_living15    0\n",
       "sqft_lot15       0\n",
       "dtype: int64"
      ]
     },
     "execution_count": 15,
     "metadata": {},
     "output_type": "execute_result"
    }
   ],
   "source": [
    "num_attributes.isnull().sum()"
   ]
  },
  {
   "cell_type": "code",
   "execution_count": 13,
   "metadata": {},
   "outputs": [
    {
     "data": {
      "text/plain": [
       "date    0\n",
       "dtype: int64"
      ]
     },
     "execution_count": 13,
     "metadata": {},
     "output_type": "execute_result"
    }
   ],
   "source": [
    "cat_attributes = house_df.select_dtypes(exclude=['int64','float64'])\n",
    "\n",
    "pd.isna(cat_variables).sum()"
   ]
  },
  {
   "cell_type": "markdown",
   "metadata": {},
   "source": [
    ">#### Check Houses sold twice or more times"
   ]
  },
  {
   "cell_type": "code",
   "execution_count": 10,
   "metadata": {},
   "outputs": [
    {
     "data": {
      "text/plain": [
       "21436"
      ]
     },
     "execution_count": 10,
     "metadata": {},
     "output_type": "execute_result"
    }
   ],
   "source": [
    "len(house_df['id'].unique())"
   ]
  },
  {
   "cell_type": "code",
   "execution_count": null,
   "metadata": {},
   "outputs": [],
   "source": [
    "duplicated_ids = house_df['id'].apply(lambda x: True if (sum(x == house_df['id']) >= 2)\\\n",
    "                                                     else False)"
   ]
  },
  {
   "cell_type": "code",
   "execution_count": null,
   "metadata": {},
   "outputs": [],
   "source": [
    "house_df.loc[duplicated_ids,['id','date','price', 'yr_renovated','zipcode', 'median_price']].drop_duplicates(subset=['id'], keep='last')"
   ]
  },
  {
   "cell_type": "markdown",
   "metadata": {},
   "source": [
    "### Data Granularity\n",
    "***"
   ]
  },
  {
   "cell_type": "markdown",
   "metadata": {},
   "source": [
    ">#### Geographic Data\n",
    "\n",
    "The geographic data attributes *latitude* and *longitude* are in their finest granularity, but *zipcode* despite being in their purest from in terms of value, it could be transformed into other finer variables to describe specifically the location of the house, for example, the street or a more coarse one as county. "
   ]
  },
  {
   "cell_type": "markdown",
   "metadata": {},
   "source": [
    ">#### Temporal Data\n",
    "\n",
    "The data attributes *yr_built* and *yr_renovated* are interval-based and nominal, respectively. And both have an year level of granularity. The *date* attribute can be considered as interval-based with a day level of temporal granularity"
   ]
  },
  {
   "cell_type": "code",
   "execution_count": 14,
   "metadata": {},
   "outputs": [
    {
     "data": {
      "text/plain": [
       "array([1900, 1901, 1902, 1903, 1904, 1905, 1906, 1907, 1908, 1909, 1910,\n",
       "       1911, 1912, 1913, 1914, 1915, 1916, 1917, 1918, 1919, 1920, 1921,\n",
       "       1922, 1923, 1924, 1925, 1926, 1927, 1928, 1929, 1930, 1931, 1932,\n",
       "       1933, 1934, 1935, 1936, 1937, 1938, 1939, 1940, 1941, 1942, 1943,\n",
       "       1944, 1945, 1946, 1947, 1948, 1949, 1950, 1951, 1952, 1953, 1954,\n",
       "       1955, 1956, 1957, 1958, 1959, 1960, 1961, 1962, 1963, 1964, 1965,\n",
       "       1966, 1967, 1968, 1969, 1970, 1971, 1972, 1973, 1974, 1975, 1976,\n",
       "       1977, 1978, 1979, 1980, 1981, 1982, 1983, 1984, 1985, 1986, 1987,\n",
       "       1988, 1989, 1990, 1991, 1992, 1993, 1994, 1995, 1996, 1997, 1998,\n",
       "       1999, 2000, 2001, 2002, 2003, 2004, 2005, 2006, 2007, 2008, 2009,\n",
       "       2010, 2011, 2012, 2013, 2014, 2015])"
      ]
     },
     "execution_count": 14,
     "metadata": {},
     "output_type": "execute_result"
    }
   ],
   "source": [
    "house_df['yr_built'].sort_values().unique()"
   ]
  },
  {
   "cell_type": "code",
   "execution_count": 15,
   "metadata": {},
   "outputs": [
    {
     "data": {
      "text/plain": [
       "array([   0, 1934, 1940, 1944, 1945, 1946, 1948, 1950, 1951, 1953, 1954,\n",
       "       1955, 1956, 1957, 1958, 1959, 1960, 1962, 1963, 1964, 1965, 1967,\n",
       "       1968, 1969, 1970, 1971, 1972, 1973, 1974, 1975, 1976, 1977, 1978,\n",
       "       1979, 1980, 1981, 1982, 1983, 1984, 1985, 1986, 1987, 1988, 1989,\n",
       "       1990, 1991, 1992, 1993, 1994, 1995, 1996, 1997, 1998, 1999, 2000,\n",
       "       2001, 2002, 2003, 2004, 2005, 2006, 2007, 2008, 2009, 2010, 2011,\n",
       "       2012, 2013, 2014, 2015])"
      ]
     },
     "execution_count": 15,
     "metadata": {},
     "output_type": "execute_result"
    }
   ],
   "source": [
    "house_df['yr_renovated'].sort_values().unique()"
   ]
  },
  {
   "cell_type": "code",
   "execution_count": 16,
   "metadata": {},
   "outputs": [
    {
     "data": {
      "text/plain": [
       "array(['2014-05-02T00:00:00.000000000', '2014-05-03T00:00:00.000000000',\n",
       "       '2014-05-04T00:00:00.000000000', '2014-05-05T00:00:00.000000000',\n",
       "       '2014-05-06T00:00:00.000000000', '2014-05-07T00:00:00.000000000',\n",
       "       '2014-05-08T00:00:00.000000000', '2014-05-09T00:00:00.000000000',\n",
       "       '2014-05-10T00:00:00.000000000', '2014-05-11T00:00:00.000000000',\n",
       "       '2014-05-12T00:00:00.000000000', '2014-05-13T00:00:00.000000000',\n",
       "       '2014-05-14T00:00:00.000000000', '2014-05-15T00:00:00.000000000',\n",
       "       '2014-05-16T00:00:00.000000000', '2014-05-17T00:00:00.000000000',\n",
       "       '2014-05-18T00:00:00.000000000', '2014-05-19T00:00:00.000000000',\n",
       "       '2014-05-20T00:00:00.000000000', '2014-05-21T00:00:00.000000000',\n",
       "       '2014-05-22T00:00:00.000000000', '2014-05-23T00:00:00.000000000',\n",
       "       '2014-05-24T00:00:00.000000000', '2014-05-25T00:00:00.000000000',\n",
       "       '2014-05-26T00:00:00.000000000', '2014-05-27T00:00:00.000000000',\n",
       "       '2014-05-28T00:00:00.000000000', '2014-05-29T00:00:00.000000000',\n",
       "       '2014-05-30T00:00:00.000000000', '2014-05-31T00:00:00.000000000',\n",
       "       '2014-06-01T00:00:00.000000000', '2014-06-02T00:00:00.000000000',\n",
       "       '2014-06-03T00:00:00.000000000', '2014-06-04T00:00:00.000000000',\n",
       "       '2014-06-05T00:00:00.000000000', '2014-06-06T00:00:00.000000000',\n",
       "       '2014-06-07T00:00:00.000000000', '2014-06-08T00:00:00.000000000',\n",
       "       '2014-06-09T00:00:00.000000000', '2014-06-10T00:00:00.000000000',\n",
       "       '2014-06-11T00:00:00.000000000', '2014-06-12T00:00:00.000000000',\n",
       "       '2014-06-13T00:00:00.000000000', '2014-06-14T00:00:00.000000000',\n",
       "       '2014-06-15T00:00:00.000000000', '2014-06-16T00:00:00.000000000',\n",
       "       '2014-06-17T00:00:00.000000000', '2014-06-18T00:00:00.000000000',\n",
       "       '2014-06-19T00:00:00.000000000', '2014-06-20T00:00:00.000000000',\n",
       "       '2014-06-21T00:00:00.000000000', '2014-06-22T00:00:00.000000000',\n",
       "       '2014-06-23T00:00:00.000000000', '2014-06-24T00:00:00.000000000',\n",
       "       '2014-06-25T00:00:00.000000000', '2014-06-26T00:00:00.000000000',\n",
       "       '2014-06-27T00:00:00.000000000', '2014-06-28T00:00:00.000000000',\n",
       "       '2014-06-29T00:00:00.000000000', '2014-06-30T00:00:00.000000000',\n",
       "       '2014-07-01T00:00:00.000000000', '2014-07-02T00:00:00.000000000',\n",
       "       '2014-07-03T00:00:00.000000000', '2014-07-04T00:00:00.000000000',\n",
       "       '2014-07-05T00:00:00.000000000', '2014-07-06T00:00:00.000000000',\n",
       "       '2014-07-07T00:00:00.000000000', '2014-07-08T00:00:00.000000000',\n",
       "       '2014-07-09T00:00:00.000000000', '2014-07-10T00:00:00.000000000',\n",
       "       '2014-07-11T00:00:00.000000000', '2014-07-12T00:00:00.000000000',\n",
       "       '2014-07-13T00:00:00.000000000', '2014-07-14T00:00:00.000000000',\n",
       "       '2014-07-15T00:00:00.000000000', '2014-07-16T00:00:00.000000000',\n",
       "       '2014-07-17T00:00:00.000000000', '2014-07-18T00:00:00.000000000',\n",
       "       '2014-07-19T00:00:00.000000000', '2014-07-20T00:00:00.000000000',\n",
       "       '2014-07-21T00:00:00.000000000', '2014-07-22T00:00:00.000000000',\n",
       "       '2014-07-23T00:00:00.000000000', '2014-07-24T00:00:00.000000000',\n",
       "       '2014-07-25T00:00:00.000000000', '2014-07-26T00:00:00.000000000',\n",
       "       '2014-07-27T00:00:00.000000000', '2014-07-28T00:00:00.000000000',\n",
       "       '2014-07-29T00:00:00.000000000', '2014-07-30T00:00:00.000000000',\n",
       "       '2014-07-31T00:00:00.000000000', '2014-08-01T00:00:00.000000000',\n",
       "       '2014-08-02T00:00:00.000000000', '2014-08-03T00:00:00.000000000',\n",
       "       '2014-08-04T00:00:00.000000000', '2014-08-05T00:00:00.000000000',\n",
       "       '2014-08-06T00:00:00.000000000', '2014-08-07T00:00:00.000000000',\n",
       "       '2014-08-08T00:00:00.000000000', '2014-08-09T00:00:00.000000000',\n",
       "       '2014-08-10T00:00:00.000000000', '2014-08-11T00:00:00.000000000',\n",
       "       '2014-08-12T00:00:00.000000000', '2014-08-13T00:00:00.000000000',\n",
       "       '2014-08-14T00:00:00.000000000', '2014-08-15T00:00:00.000000000',\n",
       "       '2014-08-16T00:00:00.000000000', '2014-08-17T00:00:00.000000000',\n",
       "       '2014-08-18T00:00:00.000000000', '2014-08-19T00:00:00.000000000',\n",
       "       '2014-08-20T00:00:00.000000000', '2014-08-21T00:00:00.000000000',\n",
       "       '2014-08-22T00:00:00.000000000', '2014-08-23T00:00:00.000000000',\n",
       "       '2014-08-24T00:00:00.000000000', '2014-08-25T00:00:00.000000000',\n",
       "       '2014-08-26T00:00:00.000000000', '2014-08-27T00:00:00.000000000',\n",
       "       '2014-08-28T00:00:00.000000000', '2014-08-29T00:00:00.000000000',\n",
       "       '2014-08-30T00:00:00.000000000', '2014-08-31T00:00:00.000000000',\n",
       "       '2014-09-01T00:00:00.000000000', '2014-09-02T00:00:00.000000000',\n",
       "       '2014-09-03T00:00:00.000000000', '2014-09-04T00:00:00.000000000',\n",
       "       '2014-09-05T00:00:00.000000000', '2014-09-06T00:00:00.000000000',\n",
       "       '2014-09-07T00:00:00.000000000', '2014-09-08T00:00:00.000000000',\n",
       "       '2014-09-09T00:00:00.000000000', '2014-09-10T00:00:00.000000000',\n",
       "       '2014-09-11T00:00:00.000000000', '2014-09-12T00:00:00.000000000',\n",
       "       '2014-09-13T00:00:00.000000000', '2014-09-14T00:00:00.000000000',\n",
       "       '2014-09-15T00:00:00.000000000', '2014-09-16T00:00:00.000000000',\n",
       "       '2014-09-17T00:00:00.000000000', '2014-09-18T00:00:00.000000000',\n",
       "       '2014-09-19T00:00:00.000000000', '2014-09-20T00:00:00.000000000',\n",
       "       '2014-09-21T00:00:00.000000000', '2014-09-22T00:00:00.000000000',\n",
       "       '2014-09-23T00:00:00.000000000', '2014-09-24T00:00:00.000000000',\n",
       "       '2014-09-25T00:00:00.000000000', '2014-09-26T00:00:00.000000000',\n",
       "       '2014-09-27T00:00:00.000000000', '2014-09-28T00:00:00.000000000',\n",
       "       '2014-09-29T00:00:00.000000000', '2014-09-30T00:00:00.000000000',\n",
       "       '2014-10-01T00:00:00.000000000', '2014-10-02T00:00:00.000000000',\n",
       "       '2014-10-03T00:00:00.000000000', '2014-10-04T00:00:00.000000000',\n",
       "       '2014-10-05T00:00:00.000000000', '2014-10-06T00:00:00.000000000',\n",
       "       '2014-10-07T00:00:00.000000000', '2014-10-08T00:00:00.000000000',\n",
       "       '2014-10-09T00:00:00.000000000', '2014-10-10T00:00:00.000000000',\n",
       "       '2014-10-11T00:00:00.000000000', '2014-10-12T00:00:00.000000000',\n",
       "       '2014-10-13T00:00:00.000000000', '2014-10-14T00:00:00.000000000',\n",
       "       '2014-10-15T00:00:00.000000000', '2014-10-16T00:00:00.000000000',\n",
       "       '2014-10-17T00:00:00.000000000', '2014-10-18T00:00:00.000000000',\n",
       "       '2014-10-19T00:00:00.000000000', '2014-10-20T00:00:00.000000000',\n",
       "       '2014-10-21T00:00:00.000000000', '2014-10-22T00:00:00.000000000',\n",
       "       '2014-10-23T00:00:00.000000000', '2014-10-24T00:00:00.000000000',\n",
       "       '2014-10-25T00:00:00.000000000', '2014-10-26T00:00:00.000000000',\n",
       "       '2014-10-27T00:00:00.000000000', '2014-10-28T00:00:00.000000000',\n",
       "       '2014-10-29T00:00:00.000000000', '2014-10-30T00:00:00.000000000',\n",
       "       '2014-10-31T00:00:00.000000000', '2014-11-01T00:00:00.000000000',\n",
       "       '2014-11-02T00:00:00.000000000', '2014-11-03T00:00:00.000000000',\n",
       "       '2014-11-04T00:00:00.000000000', '2014-11-05T00:00:00.000000000',\n",
       "       '2014-11-06T00:00:00.000000000', '2014-11-07T00:00:00.000000000',\n",
       "       '2014-11-08T00:00:00.000000000', '2014-11-09T00:00:00.000000000',\n",
       "       '2014-11-10T00:00:00.000000000', '2014-11-11T00:00:00.000000000',\n",
       "       '2014-11-12T00:00:00.000000000', '2014-11-13T00:00:00.000000000',\n",
       "       '2014-11-14T00:00:00.000000000', '2014-11-15T00:00:00.000000000',\n",
       "       '2014-11-16T00:00:00.000000000', '2014-11-17T00:00:00.000000000',\n",
       "       '2014-11-18T00:00:00.000000000', '2014-11-19T00:00:00.000000000',\n",
       "       '2014-11-20T00:00:00.000000000', '2014-11-21T00:00:00.000000000',\n",
       "       '2014-11-22T00:00:00.000000000', '2014-11-23T00:00:00.000000000',\n",
       "       '2014-11-24T00:00:00.000000000', '2014-11-25T00:00:00.000000000',\n",
       "       '2014-11-26T00:00:00.000000000', '2014-11-28T00:00:00.000000000',\n",
       "       '2014-11-29T00:00:00.000000000', '2014-11-30T00:00:00.000000000',\n",
       "       '2014-12-01T00:00:00.000000000', '2014-12-02T00:00:00.000000000',\n",
       "       '2014-12-03T00:00:00.000000000', '2014-12-04T00:00:00.000000000',\n",
       "       '2014-12-05T00:00:00.000000000', '2014-12-06T00:00:00.000000000',\n",
       "       '2014-12-07T00:00:00.000000000', '2014-12-08T00:00:00.000000000',\n",
       "       '2014-12-09T00:00:00.000000000', '2014-12-10T00:00:00.000000000',\n",
       "       '2014-12-11T00:00:00.000000000', '2014-12-12T00:00:00.000000000',\n",
       "       '2014-12-13T00:00:00.000000000', '2014-12-14T00:00:00.000000000',\n",
       "       '2014-12-15T00:00:00.000000000', '2014-12-16T00:00:00.000000000',\n",
       "       '2014-12-17T00:00:00.000000000', '2014-12-18T00:00:00.000000000',\n",
       "       '2014-12-19T00:00:00.000000000', '2014-12-20T00:00:00.000000000',\n",
       "       '2014-12-21T00:00:00.000000000', '2014-12-22T00:00:00.000000000',\n",
       "       '2014-12-23T00:00:00.000000000', '2014-12-24T00:00:00.000000000',\n",
       "       '2014-12-26T00:00:00.000000000', '2014-12-27T00:00:00.000000000',\n",
       "       '2014-12-29T00:00:00.000000000', '2014-12-30T00:00:00.000000000',\n",
       "       '2014-12-31T00:00:00.000000000', '2015-01-02T00:00:00.000000000',\n",
       "       '2015-01-05T00:00:00.000000000', '2015-01-06T00:00:00.000000000',\n",
       "       '2015-01-07T00:00:00.000000000', '2015-01-08T00:00:00.000000000',\n",
       "       '2015-01-09T00:00:00.000000000', '2015-01-10T00:00:00.000000000',\n",
       "       '2015-01-12T00:00:00.000000000', '2015-01-13T00:00:00.000000000',\n",
       "       '2015-01-14T00:00:00.000000000', '2015-01-15T00:00:00.000000000',\n",
       "       '2015-01-16T00:00:00.000000000', '2015-01-17T00:00:00.000000000',\n",
       "       '2015-01-19T00:00:00.000000000', '2015-01-20T00:00:00.000000000',\n",
       "       '2015-01-21T00:00:00.000000000', '2015-01-22T00:00:00.000000000',\n",
       "       '2015-01-23T00:00:00.000000000', '2015-01-24T00:00:00.000000000',\n",
       "       '2015-01-25T00:00:00.000000000', '2015-01-26T00:00:00.000000000',\n",
       "       '2015-01-27T00:00:00.000000000', '2015-01-28T00:00:00.000000000',\n",
       "       '2015-01-29T00:00:00.000000000', '2015-01-30T00:00:00.000000000',\n",
       "       '2015-01-31T00:00:00.000000000', '2015-02-01T00:00:00.000000000',\n",
       "       '2015-02-02T00:00:00.000000000', '2015-02-03T00:00:00.000000000',\n",
       "       '2015-02-04T00:00:00.000000000', '2015-02-05T00:00:00.000000000',\n",
       "       '2015-02-06T00:00:00.000000000', '2015-02-07T00:00:00.000000000',\n",
       "       '2015-02-09T00:00:00.000000000', '2015-02-10T00:00:00.000000000',\n",
       "       '2015-02-11T00:00:00.000000000', '2015-02-12T00:00:00.000000000',\n",
       "       '2015-02-13T00:00:00.000000000', '2015-02-14T00:00:00.000000000',\n",
       "       '2015-02-15T00:00:00.000000000', '2015-02-16T00:00:00.000000000',\n",
       "       '2015-02-17T00:00:00.000000000', '2015-02-18T00:00:00.000000000',\n",
       "       '2015-02-19T00:00:00.000000000', '2015-02-20T00:00:00.000000000',\n",
       "       '2015-02-21T00:00:00.000000000', '2015-02-22T00:00:00.000000000',\n",
       "       '2015-02-23T00:00:00.000000000', '2015-02-24T00:00:00.000000000',\n",
       "       '2015-02-25T00:00:00.000000000', '2015-02-26T00:00:00.000000000',\n",
       "       '2015-02-27T00:00:00.000000000', '2015-02-28T00:00:00.000000000',\n",
       "       '2015-03-01T00:00:00.000000000', '2015-03-02T00:00:00.000000000',\n",
       "       '2015-03-03T00:00:00.000000000', '2015-03-04T00:00:00.000000000',\n",
       "       '2015-03-05T00:00:00.000000000', '2015-03-06T00:00:00.000000000',\n",
       "       '2015-03-07T00:00:00.000000000', '2015-03-08T00:00:00.000000000',\n",
       "       '2015-03-09T00:00:00.000000000', '2015-03-10T00:00:00.000000000',\n",
       "       '2015-03-11T00:00:00.000000000', '2015-03-12T00:00:00.000000000',\n",
       "       '2015-03-13T00:00:00.000000000', '2015-03-14T00:00:00.000000000',\n",
       "       '2015-03-15T00:00:00.000000000', '2015-03-16T00:00:00.000000000',\n",
       "       '2015-03-17T00:00:00.000000000', '2015-03-18T00:00:00.000000000',\n",
       "       '2015-03-19T00:00:00.000000000', '2015-03-20T00:00:00.000000000',\n",
       "       '2015-03-21T00:00:00.000000000', '2015-03-22T00:00:00.000000000',\n",
       "       '2015-03-23T00:00:00.000000000', '2015-03-24T00:00:00.000000000',\n",
       "       '2015-03-25T00:00:00.000000000', '2015-03-26T00:00:00.000000000',\n",
       "       '2015-03-27T00:00:00.000000000', '2015-03-28T00:00:00.000000000',\n",
       "       '2015-03-29T00:00:00.000000000', '2015-03-30T00:00:00.000000000',\n",
       "       '2015-03-31T00:00:00.000000000', '2015-04-01T00:00:00.000000000',\n",
       "       '2015-04-02T00:00:00.000000000', '2015-04-03T00:00:00.000000000',\n",
       "       '2015-04-04T00:00:00.000000000', '2015-04-05T00:00:00.000000000',\n",
       "       '2015-04-06T00:00:00.000000000', '2015-04-07T00:00:00.000000000',\n",
       "       '2015-04-08T00:00:00.000000000', '2015-04-09T00:00:00.000000000',\n",
       "       '2015-04-10T00:00:00.000000000', '2015-04-11T00:00:00.000000000',\n",
       "       '2015-04-12T00:00:00.000000000', '2015-04-13T00:00:00.000000000',\n",
       "       '2015-04-14T00:00:00.000000000', '2015-04-15T00:00:00.000000000',\n",
       "       '2015-04-16T00:00:00.000000000', '2015-04-17T00:00:00.000000000',\n",
       "       '2015-04-18T00:00:00.000000000', '2015-04-19T00:00:00.000000000',\n",
       "       '2015-04-20T00:00:00.000000000', '2015-04-21T00:00:00.000000000',\n",
       "       '2015-04-22T00:00:00.000000000', '2015-04-23T00:00:00.000000000',\n",
       "       '2015-04-24T00:00:00.000000000', '2015-04-25T00:00:00.000000000',\n",
       "       '2015-04-26T00:00:00.000000000', '2015-04-27T00:00:00.000000000',\n",
       "       '2015-04-28T00:00:00.000000000', '2015-04-29T00:00:00.000000000',\n",
       "       '2015-04-30T00:00:00.000000000', '2015-05-01T00:00:00.000000000',\n",
       "       '2015-05-02T00:00:00.000000000', '2015-05-03T00:00:00.000000000',\n",
       "       '2015-05-04T00:00:00.000000000', '2015-05-05T00:00:00.000000000',\n",
       "       '2015-05-06T00:00:00.000000000', '2015-05-07T00:00:00.000000000',\n",
       "       '2015-05-08T00:00:00.000000000', '2015-05-09T00:00:00.000000000',\n",
       "       '2015-05-10T00:00:00.000000000', '2015-05-11T00:00:00.000000000',\n",
       "       '2015-05-12T00:00:00.000000000', '2015-05-13T00:00:00.000000000',\n",
       "       '2015-05-14T00:00:00.000000000', '2015-05-15T00:00:00.000000000',\n",
       "       '2015-05-24T00:00:00.000000000', '2015-05-27T00:00:00.000000000'],\n",
       "      dtype='datetime64[ns]')"
      ]
     },
     "execution_count": 16,
     "metadata": {},
     "output_type": "execute_result"
    }
   ],
   "source": [
    "house_df['date'].sort_values().unique()"
   ]
  },
  {
   "cell_type": "markdown",
   "metadata": {},
   "source": [
    ">#### Numerical Data \n",
    "\n",
    "All numeric variables {'id', 'price', 'bedrooms', 'bathrooms', 'sqft_living', 'sqft_lot',\n",
    "       'floors', 'waterfront', 'view', 'condition', 'grade', 'sqft_above',\n",
    "       'sqft_basement', 'sqft_living15', 'sqft_lot15'}\n",
    "      \n",
    "have the finest granularity, they are not composed or discretized in any way."
   ]
  },
  {
   "cell_type": "markdown",
   "metadata": {},
   "source": [
    "### Attributes Usefulness for the task\n",
    "***"
   ]
  },
  {
   "cell_type": "code",
   "execution_count": null,
   "metadata": {},
   "outputs": [],
   "source": []
  },
  {
   "cell_type": "markdown",
   "metadata": {},
   "source": [
    "### Identify Data Inconsistency\n",
    "***"
   ]
  },
  {
   "cell_type": "code",
   "execution_count": null,
   "metadata": {},
   "outputs": [],
   "source": []
  },
  {
   "cell_type": "markdown",
   "metadata": {},
   "source": [
    "### Business Data Assumptions\n",
    "***"
   ]
  },
  {
   "cell_type": "code",
   "execution_count": null,
   "metadata": {},
   "outputs": [],
   "source": []
  },
  {
   "cell_type": "markdown",
   "metadata": {},
   "source": [
    "Which houses should be bought and for what price?"
   ]
  },
  {
   "cell_type": "code",
   "execution_count": null,
   "metadata": {},
   "outputs": [],
   "source": [
    "zipcode_median = house_df[['price', 'zipcode']].groupby('zipcode').median().reset_index()\n",
    "zipcode_median.columns = ['zipcode','median_price']"
   ]
  },
  {
   "cell_type": "code",
   "execution_count": null,
   "metadata": {},
   "outputs": [],
   "source": [
    "house_df = pd.merge(house_df,zipcode_median,on='zipcode',how='inner')"
   ]
  },
  {
   "cell_type": "code",
   "execution_count": null,
   "metadata": {},
   "outputs": [],
   "source": [
    "house_df"
   ]
  },
  {
   "cell_type": "code",
   "execution_count": null,
   "metadata": {},
   "outputs": [],
   "source": [
    "house_df['condition'].value_counts()"
   ]
  },
  {
   "cell_type": "markdown",
   "metadata": {},
   "source": [
    "## Business Hypothesis\n",
    "***\n",
    "\n",
    "**1.** The houses that have a price value lower than the median and are in good conditions, can be sold for a higher price, so are good to buy.\n",
    "    \n",
    "    \n",
    "**2.** The houses that have a price value lower than the median and are in bad conditions, cannot be sold for a higher price, so are not good to buy.\n",
    "\n",
    "**3.** The houses that have a price value higher than the median, independently from the condition, are not good to buy and take profit.\n"
   ]
  },
  {
   "cell_type": "code",
   "execution_count": null,
   "metadata": {},
   "outputs": [],
   "source": [
    "house_df['status'] = house_df[['price','condition','median_price']].apply(lambda x: 'buy' if (x[0] < x[2]) & (x[1] >= 3)\\\n",
    "                                                                          else 'do not buy',  axis = 1)"
   ]
  },
  {
   "cell_type": "code",
   "execution_count": null,
   "metadata": {},
   "outputs": [],
   "source": [
    "house_df[['id','zipcode','price','median_price','condition','status']]"
   ]
  },
  {
   "cell_type": "code",
   "execution_count": null,
   "metadata": {},
   "outputs": [],
   "source": []
  }
 ],
 "metadata": {
  "kernelspec": {
   "display_name": "houserocket_env",
   "language": "python",
   "name": "houserocket_env"
  },
  "language_info": {
   "codemirror_mode": {
    "name": "ipython",
    "version": 3
   },
   "file_extension": ".py",
   "mimetype": "text/x-python",
   "name": "python",
   "nbconvert_exporter": "python",
   "pygments_lexer": "ipython3",
   "version": "3.8.10"
  }
 },
 "nbformat": 4,
 "nbformat_minor": 4
}
